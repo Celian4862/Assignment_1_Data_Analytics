{
 "cells": [
  {
   "cell_type": "markdown",
   "id": "1a2b3c4d-5678-90ab-cdef-1234567890ab",
   "metadata": {},
   "source": [
    "$\\Large{\\textbf{Balanced Risk Set Matching}}$\n",
    "\n",
    "This notebook will help us implement the methods explained in the journal article *Balanced Risk Set Matching*. The main steps include creating risk sets, calculating distances between patients, finding the best matches using optimization, and checking how robust our matches are to hidden biases. Let's break this down step by step."
   ]
  },
  {
   "cell_type": "markdown",
   "id": "2b3c4d5e-6789-01ab-cdef-234567890abc",
   "metadata": {},
   "source": [
    "$\\textbf{1. Import Libraries}$\n",
    "\n",
    "First, we need to import some libraries to handle data, do math, and solve optimization problems. These libraries will help us with things like working with dataframes, calculating distances, and performing integer programming."
   ]
  },
  {
   "cell_type": "code",
   "execution_count": null,
   "id": "3c4d5e6f-7890-12ab-cdef-34567890abcd",
   "metadata": {},
   "outputs": [],
   "source": [
    "import numpy as np\n",
    "import pandas as pd\n",
    "from scipy.spatial.distance import mahalanobis\n",
    "from pulp import LpProblem, LpVariable, LpMinimize, lpSum"
   ]
  },
  {
   "cell_type": "markdown",
   "id": "4d5e6f7g-8901-23ab-cdef-4567890abcde",
   "metadata": {},
   "source": [
    "$\\textbf{2. Create Risk Sets}$\n",
    "\n",
    "Now, we will create **risk sets**. A risk set is a group of patients that are eligible to be matched based on when treatment happens. For example, a treated patient can only be matched with controls who haven’t been treated yet. This function helps us figure out these groups."
   ]
  },
  {
   "cell_type": "code",
   "execution_count": null,
   "id": "5e6f7g8h-9012-34ab-cdef-567890abcdef",
   "metadata": {},
   "outputs": [],
   "source": [
    "def create_risk_sets(data, treatment_col, time_col):\n",
    "    \"\"\"\n",
    "    Create risk sets for treated patients by finding controls who could still be matched.\n",
    "    Args:\n",
    "        data (pd.DataFrame): Patient data.\n",
    "        treatment_col (str): Column name indicating if treatment occurred.\n",
    "        time_col (str): Column name with treatment or observation times.\n",
    "    Returns:\n",
    "        dict: Risk sets as a dictionary where keys are treated patients, and values are lists of potential controls.\n",
    "    \"\"\"\n",
    "    risk_sets = {}\n",
    "    treated = data[data[treatment_col] == 1]  # Select treated patients only\n",
    "    for index, treated_row in treated.iterrows():\n",
    "        t = treated_row[time_col]\n",
    "        # Controls must be untreated and observed after treatment time\n",
    "        untreated = data[(data[treatment_col] == 0) & (data[time_col] >= t)]\n",
    "        risk_sets[index] = untreated.index.tolist()\n",
    "    return risk_sets"
   ]
  },
  {
   "cell_type": "markdown",
   "id": "6f7g8h9i-0123-45ab-cdef-67890abcdef1",
   "metadata": {},
   "source": [
    "$\\textbf{3. Calculate Mahalanobis Distance}$\n",
    "\n",
    "Next, we calculate the **Mahalanobis distance**. This is a fancy way of measuring how similar two patients are based on multiple features (like age, severity of symptoms, etc.). The smaller the distance, the more similar they are."
   ]
  },
  {
   "cell_type": "code",
   "execution_count": null,
   "id": "7g8h9i0j-1234-56ab-cdef-7890abcdef2",
   "metadata": {},
   "outputs": [],
   "source": [
    "def calculate_mahalanobis_matrix(data, cov_matrix):\n",
    "    \"\"\"\n",
    "    Calculate the Mahalanobis distance between every pair of patients in the dataset.\n",
    "    Args:\n",
    "        data (pd.DataFrame): Patient data with only the covariates for distance computation.\n",
    "        cov_matrix (np.ndarray): Covariance matrix of the covariates.\n",
    "    Returns:\n",
    "        pd.DataFrame: Matrix of distances between all pairs of patients.\n",
    "    \"\"\"\n",
    "    dist_matrix = pd.DataFrame(index=data.index, columns=data.index)\n",
    "    for i in data.index:\n",
    "        for j in data.index:\n",
    "            dist = mahalanobis(data.loc[i], data.loc[j], np.linalg.inv(cov_matrix))\n",
    "            dist_matrix.loc[i, j] = dist\n",
    "    return dist_matrix"
   ]
  },
  {
   "cell_type": "markdown",
   "id": "8h9i0j1k-2345-67ab-cdef-890abcdef3",
   "metadata": {},
   "source": [
    "$\\textbf{4. Perform Optimal Matching}$\n",
    "\n",
    "This step is where the real magic happens. We use **integer programming** to match treated patients with controls while minimizing their distances. Integer programming lets us solve problems where we can’t match one patient more than once and need to find the best solution overall."
   ]
  },
  {
   "cell_type": "code",
   "execution_count": null,
   "id": "9i0j1k2l-3456-78ab-cdef-901abcdef4",
   "metadata": {},
   "outputs": [],
   "source": [
    "def optimal_balanced_matching(distance_matrix, risk_sets, penalty_factor=1e5):\n",
    "    \"\"\"\n",
    "    Match treated and control patients by minimizing distances.\n",
    "    Args:\n",
    "        distance_matrix (pd.DataFrame): Mahalanobis distances between patients.\n",
    "        risk_sets (dict): Dictionary of risk sets for treated patients.\n",
    "        penalty_factor (float): Large penalty for imbalance (not used here).\n",
    "    Returns:\n",
    "        dict: Dictionary of matches as {treated_index: control_index}.\n",
    "    \"\"\"\n",
    "    # Initialize the optimization problem\n",
    "    prob = LpProblem(\"Optimal_Matching\", LpMinimize)\n",
    "    # Define decision variables\n",
    "    match_vars = {\n",
    "        (t, c): LpVariable(f\"match_{t}_{c}\", 0, 1, cat=\"Binary\")\n",
    "        for t, controls in risk_sets.items()\n",
    "        for c in controls\n",
    "    }\n",
    "    # Objective: Minimize the total distance between matched pairs\n",
    "    prob += lpSum(\n",
    "        match_vars[t, c] * distance_matrix.loc[t, c]\n",
    "        for t, controls in risk_sets.items()\n",
    "        for c in controls\n",
    "    )\n",
    "    # Constraint: Each treated patient must be matched to exactly one control\n",
    "    for t in risk_sets:\n",
    "        prob += lpSum(match_vars[t, c] for c in risk_sets[t]) == 1\n",
    "    # Constraint: Each control can only be matched to one treated patient\n",
    "    all_controls = set(c for controls in risk_sets.values() for c in controls)\n",
    "    for c in all_controls:\n",
    "        prob += lpSum(match_vars[t, c] for t in risk_sets if c in risk_sets[t]) <= 1\n",
    "    # Solve the problem\n",
    "    prob.solve()\n",
    "    # Extract matches\n",
    "    matches = {\n",
    "        t: c\n",
    "        for t, controls in risk_sets.items()\n",
    "        for c in controls\n",
    "        if match_vars[t, c].value() == 1\n",
    "    }\n",
    "    return matches"
   ]
  },
  {
   "cell_type": "markdown",
   "id": "0j1k2l3m-4567-89ab-cdef-0123456789ab",
   "metadata": {},
   "source": [
    "$\\textbf{5. Perform Sensitivity Analysis}$\n",
    "\n",
    "Finally, we check how sensitive the matches are to hidden biases. A hidden bias could be something we didn’t measure that makes one patient more likely to be treated. This function evaluates how small changes might affect the results."
   ]
  },
  {
   "cell_type": "code",
   "execution_count": null,
   "id": "1k2l3m4n-5678-90ab-cdef-1234567890bc",
   "metadata": {},
   "outputs": [],
   "source": [
    "def sensitivity_analysis(matches, bias_factor=1.0):\n",
    "    \"\"\"\n",
    "    Check how robust the matches are to hidden biases.\n",
    "    Args:\n",
    "        matches (dict): Matched pairs of treated and control patients.\n",
    "        bias_factor (float): Factor representing hidden bias.\n",
    "    Returns:\n",
    "        dict: Sensitivity scores for each match.\n",
    "    \"\"\"\n",
    "    sensitivity_scores = {}\n",
    "    for treated, control in matches.items():\n",
    "        # Example calculation for sensitivity (placeholder)\n",
    "        sensitivity_scores[(treated, control)] = 1 / (1 + bias_factor)\n",
    "    return sensitivity_scores"
   ]
  },
  {
   "cell_type": "markdown",
   "id": "2l3m4n5o-6789-01ab-cdef-234567890cde",
   "metadata": {},
   "source": [
    "$\\textbf{6. Example Execution}$\n",
    "\n",
    "Now let’s put everything together and test it on a small dataset. We will create some fake data for simplicity."
   ]
  },
  {
   "cell_type": "code",
   "execution_count": null,
   "id": "3m4n5o6p-7890-12ab-cdef-34567890def0",
   "metadata": {},
   "outputs": [],
   "source": [
    "# Example synthetic dataset\n",
    "data = pd.DataFrame({\n",
    "    \"id\": range(10),\n",
    "    \"age\": [25, 30, 35, 40, 45, 50, 55, 60, 65, 70],\n",
    "    \"severity\": [1, 2, 3, 4, 5, 6, 7, 8, 9, 10],\n",
    "    \"treatment\": [0, 0, 0, 1, 0, 0, 0, 1, 0, 0],\n",
    "    \"time\": [3, 4, 5, 6, 7, 8, 9, 10, 11, 12]\n",
    "})\n",
    "# Covariates for matching\n",
    "cov_matrix = np.cov(data[[\"age\", \"severity\"]].values, rowvar=False)\n",
    "# Step 1: Create risk sets\n",
    "risk_sets = create_risk_sets(data, \"treatment\", \"time\")\n",
    "# Step 2: Compute Mahalanobis distance\n",
    "distance_matrix = calculate_mahalanobis_matrix(data[[\"age\", \"severity\"]], cov_matrix)\n",
    "# Step 3: Perform optimal matching\n",
    "matches = optimal_balanced_matching(distance_matrix, risk_sets)\n",
    "# Step 4: Perform sensitivity analysis\n",
    "sensitivity = sensitivity_analysis(matches, bias_factor=1.2)\n",
    "print(\"Matches:\", matches)\n",
    "print(\"Sensitivity Analysis:\", sensitivity)"
   ]
  }
 ],
 "metadata": {
  "kernelspec": {
   "display_name": "Python 3 (ipykernel)",
   "language": "python",
   "name": "python3"
  },
  "language_info": {
   "codemirror_mode": {
    "name": "ipython",
    "version": 3
   },
   "file_extension": ".py",
   "mimetype": "text/x-python",
   "name": "python",
   "nbconvert_exporter": "python",
   "pygments_lexer": "ipython3",
   "version": "3.8.16"
  }
 },
 "nbformat": 4,
 "nbformat_minor": 5
}
